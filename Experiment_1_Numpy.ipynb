{
  "nbformat": 4,
  "nbformat_minor": 0,
  "metadata": {
    "colab": {
      "name": "Experiment 1 Numpy.ipynb",
      "provenance": [],
      "collapsed_sections": [],
      "authorship_tag": "ABX9TyNZ/v81X6/MAmqlbkx9A/2f",
      "include_colab_link": true
    },
    "kernelspec": {
      "name": "python3",
      "display_name": "Python 3"
    }
  },
  "cells": [
    {
      "cell_type": "markdown",
      "metadata": {
        "id": "view-in-github",
        "colab_type": "text"
      },
      "source": [
        "<a href=\"https://colab.research.google.com/github/19PA1A02A8/AI-Lab/blob/master/Experiment_1_Numpy.ipynb\" target=\"_parent\"><img src=\"https://colab.research.google.com/assets/colab-badge.svg\" alt=\"Open In Colab\"/></a>"
      ]
    },
    {
      "cell_type": "markdown",
      "metadata": {
        "id": "Sam_IfhoL-6U",
        "colab_type": "text"
      },
      "source": [
        "#Experiment NO.1 : NUMPY"
      ]
    },
    {
      "cell_type": "markdown",
      "metadata": {
        "id": "0LTEWVw-Hwai",
        "colab_type": "text"
      },
      "source": [
        "###1)Different ways to create a Numpy arrays"
      ]
    },
    {
      "cell_type": "code",
      "metadata": {
        "id": "D3jEkcYNEQbF",
        "colab_type": "code",
        "colab": {
          "base_uri": "https://localhost:8080/",
          "height": 51
        },
        "outputId": "90c164a5-d60a-48dd-8ae0-e7b5e0c2e3ea"
      },
      "source": [
        "import numpy as np\n",
        "P = np.array([[5,6,7],[8,9,10]])\n",
        "print (P)"
      ],
      "execution_count": null,
      "outputs": [
        {
          "output_type": "stream",
          "text": [
            "[[ 5  6  7]\n",
            " [ 8  9 10]]\n"
          ],
          "name": "stdout"
        }
      ]
    },
    {
      "cell_type": "markdown",
      "metadata": {
        "id": "ref5BE2VLevD",
        "colab_type": "text"
      },
      "source": [
        "###2) Add,remove,modify array elements"
      ]
    },
    {
      "cell_type": "markdown",
      "metadata": {
        "id": "s82HYtrvJs-3",
        "colab_type": "text"
      },
      "source": [
        "###Add"
      ]
    },
    {
      "cell_type": "code",
      "metadata": {
        "id": "HowZkLI8HGQX",
        "colab_type": "code",
        "colab": {
          "base_uri": "https://localhost:8080/",
          "height": 34
        },
        "outputId": "d787c51b-e7b1-40fa-d337-3070803c1a40"
      },
      "source": [
        "a=np.array([1,2,3])\n",
        "b=np.append(a,[10,20,30])\n",
        "print(b)"
      ],
      "execution_count": null,
      "outputs": [
        {
          "output_type": "stream",
          "text": [
            "[ 1  2  3 10 20 30]\n"
          ],
          "name": "stdout"
        }
      ]
    },
    {
      "cell_type": "markdown",
      "metadata": {
        "id": "nJOsdlsfP7cT",
        "colab_type": "text"
      },
      "source": [
        "###Remove"
      ]
    },
    {
      "cell_type": "code",
      "metadata": {
        "id": "4OqtLzsDP-AE",
        "colab_type": "code",
        "colab": {
          "base_uri": "https://localhost:8080/",
          "height": 34
        },
        "outputId": "ce53b923-bf4a-49a8-d9c2-785b45a40410"
      },
      "source": [
        "c= np.delete(a,2)\n",
        "print(c)"
      ],
      "execution_count": 8,
      "outputs": [
        {
          "output_type": "stream",
          "text": [
            "[3 4]\n"
          ],
          "name": "stdout"
        }
      ]
    },
    {
      "cell_type": "markdown",
      "metadata": {
        "id": "C94ZYMvDQKWU",
        "colab_type": "text"
      },
      "source": [
        "###Modify"
      ]
    },
    {
      "cell_type": "code",
      "metadata": {
        "id": "qbWJWheDQL9f",
        "colab_type": "code",
        "colab": {
          "base_uri": "https://localhost:8080/",
          "height": 34
        },
        "outputId": "1e74707d-d975-4ace-9367-9d2e44fb72d4"
      },
      "source": [
        "c[c<5]=-1\n",
        "print(c)"
      ],
      "execution_count": 10,
      "outputs": [
        {
          "output_type": "stream",
          "text": [
            "[-1 -1]\n"
          ],
          "name": "stdout"
        }
      ]
    },
    {
      "cell_type": "markdown",
      "metadata": {
        "id": "F4GgZziGLUK0",
        "colab_type": "text"
      },
      "source": [
        "###3) Arthmetic operations on Numpy arrays"
      ]
    },
    {
      "cell_type": "code",
      "metadata": {
        "id": "JhoASclbH6cj",
        "colab_type": "code",
        "colab": {
          "base_uri": "https://localhost:8080/",
          "height": 103
        },
        "outputId": "75b2cfc9-cad1-436c-a9b7-537ab8de8f1a"
      },
      "source": [
        "import numpy as np\n",
        "a=([3,4,5])\n",
        "b=([6,7,8])\n",
        "num_sum = np.add(a,b)\n",
        "num_diff = np.subtract(a,b)\n",
        "num_quo = np.divide(a,b)\n",
        "num_mod = np.mod(a,b)\n",
        "num_pow = np.power(a,b)\n",
        "print(num_sum)\n",
        "print(num_diff)\n",
        "print(num_quo)\n",
        "print(num_mod)\n",
        "print(num_pow)"
      ],
      "execution_count": 4,
      "outputs": [
        {
          "output_type": "stream",
          "text": [
            "[ 9 11 13]\n",
            "[-3 -3 -3]\n",
            "[0.5        0.57142857 0.625     ]\n",
            "[3 4 5]\n",
            "[   729  16384 390625]\n"
          ],
          "name": "stdout"
        }
      ]
    },
    {
      "cell_type": "markdown",
      "metadata": {
        "id": "0We8IxCFLKIm",
        "colab_type": "text"
      },
      "source": [
        "###4) slicing and iterating of numpy arrays"
      ]
    },
    {
      "cell_type": "markdown",
      "metadata": {
        "id": "bWKa7yjyOQM0",
        "colab_type": "text"
      },
      "source": [
        "###Slicing"
      ]
    },
    {
      "cell_type": "code",
      "metadata": {
        "id": "4lH3YBVSJYM5",
        "colab_type": "code",
        "colab": {
          "base_uri": "https://localhost:8080/",
          "height": 34
        },
        "outputId": "d4a88e72-df9a-4fbb-ff92-729ed1ba5fc0"
      },
      "source": [
        "import numpy as np\n",
        "arr = np.array([3,4,5,6,7,8,9,10,11,12])\n",
        "print(arr[5:11])"
      ],
      "execution_count": 5,
      "outputs": [
        {
          "output_type": "stream",
          "text": [
            "[ 8  9 10 11 12]\n"
          ],
          "name": "stdout"
        }
      ]
    },
    {
      "cell_type": "markdown",
      "metadata": {
        "id": "CclbTgcPOXab",
        "colab_type": "text"
      },
      "source": [
        "###Iterating"
      ]
    },
    {
      "cell_type": "code",
      "metadata": {
        "id": "9HDS6TLBJr66",
        "colab_type": "code",
        "colab": {
          "base_uri": "https://localhost:8080/",
          "height": 188
        },
        "outputId": "b7c0c5df-19e9-4319-a4ff-5dd4049df201"
      },
      "source": [
        "for X in arr:\n",
        " print(X)"
      ],
      "execution_count": 6,
      "outputs": [
        {
          "output_type": "stream",
          "text": [
            "3\n",
            "4\n",
            "5\n",
            "6\n",
            "7\n",
            "8\n",
            "9\n",
            "10\n",
            "11\n",
            "12\n"
          ],
          "name": "stdout"
        }
      ]
    },
    {
      "cell_type": "markdown",
      "metadata": {
        "id": "nui-BdejK8iA",
        "colab_type": "text"
      },
      "source": [
        "###5) Matrix operations on Numpy arrays"
      ]
    },
    {
      "cell_type": "code",
      "metadata": {
        "id": "uCp5PhGsJ-hP",
        "colab_type": "code",
        "colab": {
          "base_uri": "https://localhost:8080/",
          "height": 120
        },
        "outputId": "9a77893e-c2f8-4ab4-a931-4efd560819cf"
      },
      "source": [
        "import numpy as np\n",
        "a = np.array([[3,4],[5,6]])\n",
        "b = np.array([[7,8],[9,10]])\n",
        "print(np.add(a,b))\n",
        "print(np.subtract(a,b))\n",
        "print(np.divide(a,b))"
      ],
      "execution_count": 1,
      "outputs": [
        {
          "output_type": "stream",
          "text": [
            "[[10 12]\n",
            " [14 16]]\n",
            "[[-4 -4]\n",
            " [-4 -4]]\n",
            "[[0.42857143 0.5       ]\n",
            " [0.55555556 0.6       ]]\n"
          ],
          "name": "stdout"
        }
      ]
    }
  ]
}